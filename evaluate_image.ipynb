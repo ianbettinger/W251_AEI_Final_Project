{
 "cells": [
  {
   "cell_type": "code",
   "execution_count": 1,
   "metadata": {},
   "outputs": [
    {
     "name": "stderr",
     "output_type": "stream",
     "text": [
      "Using TensorFlow backend.\n"
     ]
    }
   ],
   "source": [
    "# Import libraries \n",
    "\n",
    "import json\n",
    "import os\n",
    "import random\n",
    "\n",
    "import cv2 as cv\n",
    "import keras.backend as K\n",
    "import numpy as np\n",
    "import scipy.io\n",
    "\n",
    "from keras.models import model_from_json\n",
    "from custom_layers.scale_layer import Scale\n",
    "\n",
    "from PIL import Image\n",
    "import glob\n",
    "\n",
    "import requests\n",
    "import urllib.request\n",
    "import time\n",
    "from bs4 import BeautifulSoup\n",
    "from twilio.rest import Client"
   ]
  },
  {
   "cell_type": "code",
   "execution_count": 2,
   "metadata": {},
   "outputs": [
    {
     "name": "stdout",
     "output_type": "stream",
     "text": [
      "WARNING:tensorflow:From /anaconda3/lib/python3.7/site-packages/tensorflow/python/framework/op_def_library.py:263: colocate_with (from tensorflow.python.framework.ops) is deprecated and will be removed in a future version.\n",
      "Instructions for updating:\n",
      "Colocations handled automatically by placer.\n"
     ]
    }
   ],
   "source": [
    "# Load model from json and h5 files\n",
    "\n",
    "json_file = open('models/ResNet152.json', 'r')\n",
    "loaded_model_json = json_file.read()\n",
    "json_file.close()\n",
    "model = model_from_json(loaded_model_json, {'Scale': Scale})\n",
    "model.load_weights('models/ResNet152.hdf5')"
   ]
  },
  {
   "cell_type": "code",
   "execution_count": 3,
   "metadata": {},
   "outputs": [
    {
     "name": "stdout",
     "output_type": "stream",
     "text": [
      "Start processing image: images/samplesA/\\frame13.jpg\n",
      "Start processing image: images/samplesA/\\frame7.jpg\n",
      "Start processing image: images/samplesA/\\frame6.jpg\n",
      "Start processing image: images/samplesA/\\frame12.jpg\n",
      "Start processing image: images/samplesA/\\frame10.jpg\n",
      "Start processing image: images/samplesA/\\frame38.jpg\n",
      "Start processing image: images/samplesA/\\frame4.jpg\n",
      "Start processing image: images/samplesA/\\frame5.jpg\n",
      "Start processing image: images/samplesA/\\frame39.jpg\n",
      "Start processing image: images/samplesA/\\frame11.jpg\n",
      "Start processing image: images/samplesA/\\frame29.jpg\n",
      "Start processing image: images/samplesA/\\frame15.jpg\n",
      "Start processing image: images/samplesA/\\frame1.jpg\n",
      "Start processing image: images/samplesA/\\frame0.jpg\n",
      "Start processing image: images/samplesA/\\frame14.jpg\n",
      "Start processing image: images/samplesA/\\frame28.jpg\n",
      "Start processing image: images/samplesA/\\frame16.jpg\n",
      "Start processing image: images/samplesA/\\frame2.jpg\n",
      "Start processing image: images/samplesA/\\frame3.jpg\n",
      "Start processing image: images/samplesA/\\frame17.jpg\n",
      "Start processing image: images/samplesA/\\frame26.jpg\n",
      "Start processing image: images/samplesA/\\frame32.jpg\n",
      "Start processing image: images/samplesA/\\frame33.jpg\n",
      "Start processing image: images/samplesA/\\frame27.jpg\n",
      "Start processing image: images/samplesA/\\frame31.jpg\n",
      "Start processing image: images/samplesA/\\frame25.jpg\n",
      "Start processing image: images/samplesA/\\frame19.jpg\n",
      "Start processing image: images/samplesA/\\frame18.jpg\n",
      "Start processing image: images/samplesA/\\frame24.jpg\n",
      "Start processing image: images/samplesA/\\frame30.jpg\n",
      "Start processing image: images/samplesA/\\frame34.jpg\n",
      "Start processing image: images/samplesA/\\frame20.jpg\n",
      "Start processing image: images/samplesA/\\frame8.jpg\n",
      "Start processing image: images/samplesA/\\frame9.jpg\n",
      "Start processing image: images/samplesA/\\frame21.jpg\n",
      "Start processing image: images/samplesA/\\frame35.jpg\n",
      "Start processing image: images/samplesA/\\frame23.jpg\n",
      "Start processing image: images/samplesA/\\frame37.jpg\n",
      "Start processing image: images/samplesA/\\frame36.jpg\n",
      "Start processing image: images/samplesA/\\frame22.jpg\n",
      "Start processing image: images/samplesA/\\frame43.jpg\n",
      "Start processing image: images/samplesA/\\frame42.jpg\n",
      "Start processing image: images/samplesA/\\frame40.jpg\n",
      "Start processing image: images/samplesA/\\frame41.jpg\n",
      "[{'label': 'Chevrolet Silverado 1500 Classic Extended Cab 2007', 'prob': '0.5636'}, {'label': 'Dodge Ram Pickup 3500 Crew Cab 2010', 'prob': '0.2567'}, {'label': 'Dodge Ram Pickup 3500 Crew Cab 2010', 'prob': '0.3585'}, {'label': 'Dodge Ram Pickup 3500 Crew Cab 2010', 'prob': '0.4056'}, {'label': 'Chevrolet Silverado 1500 Extended Cab 2012', 'prob': '0.8927'}, {'label': 'GMC Terrain SUV 2012', 'prob': '0.2603'}, {'label': 'GMC Savana Van 2012', 'prob': '0.9687'}, {'label': 'Chevrolet Traverse SUV 2012', 'prob': '0.3028'}, {'label': 'Dodge Ram Pickup 3500 Crew Cab 2010', 'prob': '0.3384'}, {'label': 'Dodge Ram Pickup 3500 Crew Cab 2010', 'prob': '0.7577'}, {'label': 'Ford F-450 Super Duty Crew Cab 2012', 'prob': '0.4611'}, {'label': 'Audi 100 Wagon 1994', 'prob': '0.2191'}, {'label': 'GMC Savana Van 2012', 'prob': '0.838'}, {'label': 'GMC Savana Van 2012', 'prob': '0.9588'}, {'label': 'Dodge Sprinter Cargo Van 2009', 'prob': '0.2916'}, {'label': 'Ford F-450 Super Duty Crew Cab 2012', 'prob': '0.5779'}, {'label': 'Dodge Ram Pickup 3500 Crew Cab 2010', 'prob': '0.3099'}, {'label': 'Isuzu Ascender SUV 2008', 'prob': '0.5172'}, {'label': 'GMC Savana Van 2012', 'prob': '0.4757'}, {'label': 'GMC Savana Van 2012', 'prob': '0.239'}, {'label': 'Ford F-150 Regular Cab 2007', 'prob': '0.5342'}, {'label': 'Ford F-150 Regular Cab 2007', 'prob': '0.6176'}, {'label': 'Ford F-150 Regular Cab 2007', 'prob': '0.8208'}, {'label': 'Ford F-150 Regular Cab 2007', 'prob': '0.7325'}, {'label': 'Ford F-150 Regular Cab 2007', 'prob': '0.4176'}, {'label': 'Ford F-450 Super Duty Crew Cab 2012', 'prob': '0.4286'}, {'label': 'Audi 100 Wagon 1994', 'prob': '0.4625'}, {'label': 'Ford GT Coupe 2006', 'prob': '0.282'}, {'label': 'Ford F-450 Super Duty Crew Cab 2012', 'prob': '0.6984'}, {'label': 'Ford F-150 Regular Cab 2007', 'prob': '0.812'}, {'label': 'Ford Mustang Convertible 2007', 'prob': '0.2155'}, {'label': 'Audi 100 Wagon 1994', 'prob': '0.7106'}, {'label': 'GMC Savana Van 2012', 'prob': '0.4195'}, {'label': 'Chevrolet Silverado 1500 Extended Cab 2012', 'prob': '0.4151'}, {'label': 'Lamborghini Reventon Coupe 2008', 'prob': '0.569'}, {'label': 'Fisker Karma Sedan 2012', 'prob': '0.2961'}, {'label': 'Dodge Ram Pickup 3500 Crew Cab 2010', 'prob': '0.8234'}, {'label': 'Chevrolet HHR SS 2010', 'prob': '0.4003'}, {'label': 'Cadillac Escalade EXT Crew Cab 2007', 'prob': '0.3392'}, {'label': 'Chevrolet Express Cargo Van 2007', 'prob': '0.5376'}, {'label': 'Audi 100 Sedan 1994', 'prob': '0.1301'}, {'label': 'Fisker Karma Sedan 2012', 'prob': '0.6406'}, {'label': 'Lamborghini Reventon Coupe 2008', 'prob': '0.2844'}, {'label': 'Bentley Continental Supersports Conv. Convertible 2012', 'prob': '0.4975'}]\n"
     ]
    }
   ],
   "source": [
    "# Set image size parameters\n",
    "img_width, img_height = 224, 224\n",
    "\n",
    "# Load labels\n",
    "cars_meta = scipy.io.loadmat('labels/cars_meta')\n",
    "class_names = cars_meta['class_names']  \n",
    "class_names = np.transpose(class_names)\n",
    "\n",
    "# Option 1: Pull from folder\n",
    "test_path = 'images/samplesA/'\n",
    "samples = [f for f in os.listdir(test_path) if os.path.isfile(os.path.join(test_path, f)) and f.endswith('.jpg')]\n",
    "samples = [os.path.join(test_path, f) for f in samples]\n",
    "\n",
    "# Option 2: Pull from live feed\n",
    "\n",
    "# Define lists\n",
    "num_samples = len(samples)\n",
    "results = []\n",
    "\n",
    "# Make prediction\n",
    "for i, image_name in enumerate(samples):\n",
    "    filename = image_name\n",
    "    print('Start processing image: {}'.format(filename))\n",
    "    bgr_img = cv.imread(filename)\n",
    "    bgr_img = cv.resize(bgr_img, (img_width, img_height), cv.INTER_CUBIC)\n",
    "    rgb_img = cv.cvtColor(bgr_img, cv.COLOR_BGR2RGB)\n",
    "    rgb_img = np.expand_dims(rgb_img, 0)\n",
    "    preds = model.predict(rgb_img)\n",
    "    prob = np.max(preds)\n",
    "    class_id = np.argmax(preds)\n",
    "    text = ('Predict: {}, prob: {}'.format(class_names[class_id][0][0], prob))\n",
    "    results.append({'label': class_names[class_id][0][0], 'prob': '{:.4}'.format(prob)})\n",
    "    cv.imwrite('images/{}_out.png'.format(i), bgr_img)   \n",
    "\n",
    "# Print and save results to file\n",
    "print(results)\n",
    "\n",
    "with open('results.json', 'w') as file:\n",
    "    json.dump(results, file, indent=4)\n",
    "\n",
    "K.clear_session()"
   ]
  },
  {
   "cell_type": "code",
   "execution_count": 4,
   "metadata": {},
   "outputs": [
    {
     "name": "stdout",
     "output_type": "stream",
     "text": [
      "{'label': 'Chevrolet Silverado 1500 Classic Extended Cab 2007', 'prob': '0.5636'}\n",
      "{'label': 'Dodge Ram Pickup 3500 Crew Cab 2010', 'prob': '0.2567'}\n",
      "{'label': 'Dodge Ram Pickup 3500 Crew Cab 2010', 'prob': '0.3585'}\n",
      "{'label': 'Dodge Ram Pickup 3500 Crew Cab 2010', 'prob': '0.4056'}\n",
      "{'label': 'Chevrolet Silverado 1500 Extended Cab 2012', 'prob': '0.8927'}\n",
      "{'label': 'GMC Terrain SUV 2012', 'prob': '0.2603'}\n",
      "{'label': 'GMC Savana Van 2012', 'prob': '0.9687'}\n",
      "{'label': 'Chevrolet Traverse SUV 2012', 'prob': '0.3028'}\n",
      "{'label': 'Dodge Ram Pickup 3500 Crew Cab 2010', 'prob': '0.3384'}\n",
      "{'label': 'Dodge Ram Pickup 3500 Crew Cab 2010', 'prob': '0.7577'}\n",
      "{'label': 'Ford F-450 Super Duty Crew Cab 2012', 'prob': '0.4611'}\n",
      "{'label': 'Audi 100 Wagon 1994', 'prob': '0.2191'}\n",
      "{'label': 'GMC Savana Van 2012', 'prob': '0.838'}\n",
      "{'label': 'GMC Savana Van 2012', 'prob': '0.9588'}\n",
      "{'label': 'Dodge Sprinter Cargo Van 2009', 'prob': '0.2916'}\n",
      "{'label': 'Ford F-450 Super Duty Crew Cab 2012', 'prob': '0.5779'}\n",
      "{'label': 'Dodge Ram Pickup 3500 Crew Cab 2010', 'prob': '0.3099'}\n",
      "{'label': 'Isuzu Ascender SUV 2008', 'prob': '0.5172'}\n",
      "{'label': 'GMC Savana Van 2012', 'prob': '0.4757'}\n",
      "{'label': 'GMC Savana Van 2012', 'prob': '0.239'}\n",
      "{'label': 'Ford F-150 Regular Cab 2007', 'prob': '0.5342'}\n",
      "{'label': 'Ford F-150 Regular Cab 2007', 'prob': '0.6176'}\n",
      "{'label': 'Ford F-150 Regular Cab 2007', 'prob': '0.8208'}\n",
      "{'label': 'Ford F-150 Regular Cab 2007', 'prob': '0.7325'}\n",
      "{'label': 'Ford F-150 Regular Cab 2007', 'prob': '0.4176'}\n",
      "{'label': 'Ford F-450 Super Duty Crew Cab 2012', 'prob': '0.4286'}\n",
      "{'label': 'Audi 100 Wagon 1994', 'prob': '0.4625'}\n",
      "{'label': 'Ford GT Coupe 2006', 'prob': '0.282'}\n",
      "{'label': 'Ford F-450 Super Duty Crew Cab 2012', 'prob': '0.6984'}\n",
      "{'label': 'Ford F-150 Regular Cab 2007', 'prob': '0.812'}\n",
      "{'label': 'Ford Mustang Convertible 2007', 'prob': '0.2155'}\n",
      "{'label': 'Audi 100 Wagon 1994', 'prob': '0.7106'}\n",
      "{'label': 'GMC Savana Van 2012', 'prob': '0.4195'}\n",
      "{'label': 'Chevrolet Silverado 1500 Extended Cab 2012', 'prob': '0.4151'}\n",
      "{'label': 'Lamborghini Reventon Coupe 2008', 'prob': '0.569'}\n",
      "{'label': 'Fisker Karma Sedan 2012', 'prob': '0.2961'}\n",
      "{'label': 'Dodge Ram Pickup 3500 Crew Cab 2010', 'prob': '0.8234'}\n",
      "{'label': 'Chevrolet HHR SS 2010', 'prob': '0.4003'}\n",
      "{'label': 'Cadillac Escalade EXT Crew Cab 2007', 'prob': '0.3392'}\n",
      "{'label': 'Chevrolet Express Cargo Van 2007', 'prob': '0.5376'}\n",
      "{'label': 'Audi 100 Sedan 1994', 'prob': '0.1301'}\n",
      "{'label': 'Fisker Karma Sedan 2012', 'prob': '0.6406'}\n",
      "{'label': 'Lamborghini Reventon Coupe 2008', 'prob': '0.2844'}\n",
      "{'label': 'Bentley Continental Supersports Conv. Convertible 2012', 'prob': '0.4975'}\n"
     ]
    }
   ],
   "source": [
    "for r in results: \n",
    "    print (r)"
   ]
  },
  {
   "cell_type": "code",
   "execution_count": 5,
   "metadata": {},
   "outputs": [],
   "source": [
    "# Collect list of stolen cars \n",
    "\n",
    "# Set up scraper\n",
    "url = 'https://www.stolencar.com/Report/Search'\n",
    "response = requests.get(url)\n",
    "soup = BeautifulSoup(response.text, \"html.parser\")\n",
    "\n",
    "# Create list \n",
    "stolen_cars = [x.string.split() for x in soup.findAll('a', {\"class\": \"report-view\"}) if not x.has_attr('title')]"
   ]
  },
  {
   "cell_type": "code",
   "execution_count": 6,
   "metadata": {},
   "outputs": [
    {
     "data": {
      "text/plain": [
       "[['2017', 'Hyundai', 'Tucson'],\n",
       " ['2003', 'Chevrolet', 'Traiblazer'],\n",
       " ['2018', 'Toyota', 'Highlander'],\n",
       " ['2019', 'Honda', 'Accord'],\n",
       " ['2019', 'Honda', 'Accord'],\n",
       " ['2006', 'Chevrolet', '1500', 'Pickup'],\n",
       " ['1992', 'Toyota', 'Pickup'],\n",
       " ['2018', 'Nissan', 'Rogue'],\n",
       " ['2000', 'Saturn', '4', 'DOOR', 'MODLE'],\n",
       " ['1998', 'Ford', 'Expedition'],\n",
       " ['1998', 'Ford', 'Expedition'],\n",
       " ['1999', 'Mercedes-Benz', 'SLK-Class'],\n",
       " ['2010', 'Chevrolet', 'Camaro', 'SS'],\n",
       " ['2010', 'Chevrolet', 'Camaro', 'SS'],\n",
       " ['2013', 'Ford', 'Taurus'],\n",
       " ['2015', 'Honda', 'Civic'],\n",
       " ['2013', 'Ford', 'Focus'],\n",
       " ['2019', 'Kia', 'Sorrento'],\n",
       " ['2006', 'Chevrolet', 'Impala'],\n",
       " ['2015', 'Chevrolet', 'Equinox'],\n",
       " ['2015', 'Ford', 'Escape'],\n",
       " ['2005', 'Acura', 'RSX'],\n",
       " ['1996', 'Honda', 'Accord', 'LX'],\n",
       " ['2008', 'Toyota', 'Camry'],\n",
       " ['2006', 'Pontiac', 'G6']]"
      ]
     },
     "execution_count": 6,
     "metadata": {},
     "output_type": "execute_result"
    }
   ],
   "source": [
    "stolen_cars"
   ]
  },
  {
   "cell_type": "code",
   "execution_count": 7,
   "metadata": {},
   "outputs": [],
   "source": [
    "# Setup the alert function\n",
    "def send_sms(msg, to):\n",
    "    \n",
    "    sid = \"ID TOKEN HERE\"\n",
    "    auth_token = \"ID TOKEN HERE\"\n",
    "    twilio_number = \"PHONE NUMBER HERE\"\n",
    "    client = Client(sid, auth_token) \n",
    "    message = client.messages.create(body=msg, from_=twilio_number, to=to)"
   ]
  },
  {
   "cell_type": "code",
   "execution_count": 8,
   "metadata": {},
   "outputs": [],
   "source": [
    "# Create list of found cars\n",
    "spotted_brands = []\n",
    "for i, car in enumerate(results):\n",
    "    brand = results[i]['label'].split(' ', 1)[0]\n",
    "    spotted_brands.append(brand)"
   ]
  },
  {
   "cell_type": "code",
   "execution_count": 9,
   "metadata": {},
   "outputs": [],
   "source": [
    "# Alert the victim\n",
    "victim_no = \"+19176646008\"\n",
    "\n",
    "for brand in spotted_brands:\n",
    "    test = any(e[1] == brand for e in stolen_cars)\n",
    "    if test:        \n",
    "        send_sms(\"{} spotted!\".format(brand), victim_no)"
   ]
  },
  {
   "cell_type": "code",
   "execution_count": null,
   "metadata": {},
   "outputs": [],
   "source": []
  }
 ],
 "metadata": {
  "kernelspec": {
   "display_name": "Python 3",
   "language": "python",
   "name": "python3"
  },
  "language_info": {
   "codemirror_mode": {
    "name": "ipython",
    "version": 3
   },
   "file_extension": ".py",
   "mimetype": "text/x-python",
   "name": "python",
   "nbconvert_exporter": "python",
   "pygments_lexer": "ipython3",
   "version": "3.7.1"
  }
 },
 "nbformat": 4,
 "nbformat_minor": 2
}
